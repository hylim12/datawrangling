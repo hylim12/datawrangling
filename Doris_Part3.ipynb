{
 "cells": [
  {
   "cell_type": "code",
   "execution_count": null,
   "id": "4513900c-06e5-4b85-9e4c-fc4798656a8f",
   "metadata": {},
   "outputs": [],
   "source": [
    "#linear regression\n",
    "lin_reg= LinearRegression()\n",
    "\n",
    "#forward selection with 4 features\n",
    "sfs = SequentialFeatureSelector(lin_reg, n_features_to_select=4, direction='forward')\n",
    "\n",
    "\n",
    "sfs.fit(x_imputed,y)\n",
    "selected_features_forward = x_imputed.columns[sfs.get_support()].tolist()\n",
    "print(\"Selected features by Forward Selection:\", selected_features_forward)"
   ]
  },
  {
   "cell_type": "code",
   "execution_count": null,
   "id": "7371e4cc-2149-4243-9ab4-665bbb474506",
   "metadata": {},
   "outputs": [],
   "source": [
    "correlation_matrix = x_imputed.corr().abs()\n",
    "\n",
    "#Select features with correlation > 0.5\n",
    "correlated_features = correlation_matrix[correlation_matrix > 0.5].index.tolist()\n",
    "\n",
    "print(\"Selected features by Correlation Filter Method:\", correlated_features)"
   ]
  }
 ],
 "metadata": {
  "kernelspec": {
   "display_name": "Python 3 (ipykernel)",
   "language": "python",
   "name": "python3"
  },
  "language_info": {
   "codemirror_mode": {
    "name": "ipython",
    "version": 3
   },
   "file_extension": ".py",
   "mimetype": "text/x-python",
   "name": "python",
   "nbconvert_exporter": "python",
   "pygments_lexer": "ipython3",
   "version": "3.12.4"
  }
 },
 "nbformat": 4,
 "nbformat_minor": 5
}
